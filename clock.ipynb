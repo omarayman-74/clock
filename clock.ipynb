{
 "cells": [
  {
   "cell_type": "code",
   "execution_count": 1,
   "metadata": {},
   "outputs": [
    {
     "data": {
      "text/plain": [
       "<matplotlib.image.AxesImage at 0x28f3938c730>"
      ]
     },
     "execution_count": 1,
     "metadata": {},
     "output_type": "execute_result"
    },
    {
     "data": {
      "image/png": "[encoded data removed]",
      "text/plain": [
       "<Figure size 432x288 with 1 Axes>"
      ]
     },
     "metadata": {
      "needs_background": "light"
     },
     "output_type": "display_data"
    }
   ],
   "source": [
    "import math\n",
    "import cv2\n",
    "import numpy as np\n",
    "from datetime import datetime\n",
    "from matplotlib import pyplot as plt\n",
    "img=np.zeros((500,500,3),np.uint8)\n",
    "while 1:\n",
    "    image=np.zeros((500,500,3),np.uint8)\n",
    "    date=datetime.date(datetime.now())\n",
    "    clock=datetime.today().replace(microsecond=0)\n",
    "    cv2.circle(image,(250,250),100,(255,255,0),1)\n",
    "    cv2.circle(image,(250,250),4,(255,255,0),-2)\n",
    "    font=cv2.FONT_HERSHEY_COMPLEX\n",
    "    cv2.putText(image,str(clock),(0,50),font,1,(0,0,255),2)\n",
    "    cv2.putText(image,\"6\",(240,380),font,1,(255,255,255),1)\n",
    "    cv2.putText(image,\"3\",(355,260),font,1,(255,255,255),1)\n",
    "    cv2.putText(image,\"9\",(125,260),font,1,(255,255,255),1)\n",
    "    cv2.putText(image,\"12\",(220,140),font,1,(255,255,255),1)\n",
    "    #cv2.putText(image,str(date),(90,90),font,1,(0,255,255),1)\n",
    "   # cv2.putText(image,\"date:\",(0,90),font,1,(0,255,255),1)\n",
    "    date_time_now = datetime.now()\n",
    "    time = date_time_now.time()\n",
    "    hour = math.fmod(time.hour, 12)\n",
    "    minute = time.minute\n",
    "    second = time.second\n",
    "    second_angle = math.fmod(second * 6 + 270, 360)\n",
    "    minute_angle = math.fmod(minute * 6 + 270, 360)\n",
    "    hour_angle = math.fmod((hour * 30) + (minute / 2) + 270, 360)\n",
    "    second_x = round(250 + 90 * math.cos(second_angle * 3.14 / 180))\n",
    "    second_y = round(250 + 90 * math.sin(second_angle * 3.14 / 180))\n",
    "    cv2.line(image, (250, 250), (second_x, second_y), [255,255,255], 1)\n",
    "    minute_x = round(250 + 80 * math.cos(minute_angle * 3.14 / 180))\n",
    "    minute_y = round(250 + 80 * math.sin(minute_angle * 3.14 / 180))\n",
    "    cv2.line(image, (250, 250), (minute_x, minute_y), [255,255,255], 1)\n",
    "    hour_x = round(250 + 60 * math.cos(hour_angle * 3.14 / 180))\n",
    "    hour_y = round(250 + 60 * math.sin(hour_angle * 3.14 / 180))\n",
    "    cv2.line(image, (250, 250), (hour_x, hour_y), [255,255,255], 1)\n",
    "    cv2.imshow('image',image)\n",
    "    k = cv2.waitKey(1)\n",
    "    if k == ord('q'):\n",
    "        break \n",
    "cv2.destroyAllWindows()\n",
    "plt.imshow(image)"
   ]
  }
 ],
 "metadata": {
  "kernelspec": {
   "display_name": "Python 3",
   "language": "python",
   "name": "python3"
  },
  "language_info": {
   "codemirror_mode": {
    "name": "ipython",
    "version": 3
   },
   "file_extension": ".py",
   "mimetype": "text/x-python",
   "name": "python",
   "nbconvert_exporter": "python",
   "pygments_lexer": "ipython3",
   "version": "3.9.6"
  },
  "orig_nbformat": 4
 },
 "nbformat": 4,
 "nbformat_minor": 2
}
